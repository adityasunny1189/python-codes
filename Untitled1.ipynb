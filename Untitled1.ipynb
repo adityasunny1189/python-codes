{
 "cells": [
  {
   "cell_type": "code",
   "execution_count": 1,
   "metadata": {},
   "outputs": [],
   "source": [
    "import numpy"
   ]
  },
  {
   "cell_type": "code",
   "execution_count": 2,
   "metadata": {},
   "outputs": [],
   "source": [
    "import cv2"
   ]
  },
  {
   "cell_type": "code",
   "execution_count": 3,
   "metadata": {},
   "outputs": [
    {
     "data": {
      "text/plain": [
       "array([[128, 128, 129, ..., 193, 193, 193],\n",
       "       [129, 129, 130, ..., 194, 194, 194],\n",
       "       [130, 130, 131, ..., 195, 195, 195],\n",
       "       ...,\n",
       "       [ 73,  68,  65, ...,  59,  62,  64],\n",
       "       [ 74,  66,  64, ...,  58,  59,  60],\n",
       "       [ 69,  66,  65, ...,  61,  59,  58]], dtype=uint8)"
      ]
     },
     "execution_count": 3,
     "metadata": {},
     "output_type": "execute_result"
    }
   ],
   "source": [
    "img=cv2.imread(\"pokemon-card-wallpapers-11296161.jpg\",0)\n",
    "img"
   ]
  },
  {
   "cell_type": "code",
   "execution_count": 4,
   "metadata": {},
   "outputs": [
    {
     "data": {
      "text/plain": [
       "array([[128, 128, 129, ..., 193, 193, 193],\n",
       "       [129, 129, 130, ..., 194, 194, 194],\n",
       "       [130, 130, 131, ..., 195, 195, 195],\n",
       "       ...,\n",
       "       [ 73,  68,  65, ...,  59,  62,  64],\n",
       "       [ 74,  66,  64, ...,  58,  59,  60],\n",
       "       [ 69,  66,  65, ...,  61,  59,  58]], dtype=uint8)"
      ]
     },
     "execution_count": 4,
     "metadata": {},
     "output_type": "execute_result"
    }
   ],
   "source": [
    "img=cv2.imread(\"pokemon-card-wallpapers-11296161.jpg\",0)\n",
    "img"
   ]
  },
  {
   "cell_type": "code",
   "execution_count": 5,
   "metadata": {},
   "outputs": [
    {
     "data": {
      "text/plain": [
       "array([[[144, 141,  97],\n",
       "        [144, 141,  97],\n",
       "        [145, 142,  98],\n",
       "        ...,\n",
       "        [237, 209, 144],\n",
       "        [237, 209, 144],\n",
       "        [237, 209, 144]],\n",
       "\n",
       "       [[145, 142,  97],\n",
       "        [145, 142,  97],\n",
       "        [146, 143,  98],\n",
       "        ...,\n",
       "        [238, 210, 146],\n",
       "        [238, 210, 145],\n",
       "        [238, 210, 145]],\n",
       "\n",
       "       [[148, 143,  98],\n",
       "        [148, 143,  98],\n",
       "        [149, 144,  99],\n",
       "        ...,\n",
       "        [238, 211, 147],\n",
       "        [238, 211, 147],\n",
       "        [238, 211, 147]],\n",
       "\n",
       "       ...,\n",
       "\n",
       "       [[ 38,  79,  74],\n",
       "        [ 34,  75,  68],\n",
       "        [ 33,  71,  65],\n",
       "        ...,\n",
       "        [ 29,  62,  65],\n",
       "        [ 32,  65,  68],\n",
       "        [ 32,  67,  70]],\n",
       "\n",
       "       [[ 40,  80,  75],\n",
       "        [ 34,  72,  66],\n",
       "        [ 34,  71,  63],\n",
       "        ...,\n",
       "        [ 28,  61,  64],\n",
       "        [ 29,  62,  65],\n",
       "        [ 30,  63,  66]],\n",
       "\n",
       "       [[ 35,  76,  69],\n",
       "        [ 34,  72,  66],\n",
       "        [ 35,  72,  64],\n",
       "        ...,\n",
       "        [ 31,  64,  67],\n",
       "        [ 29,  62,  65],\n",
       "        [ 28,  61,  64]]], dtype=uint8)"
      ]
     },
     "execution_count": 5,
     "metadata": {},
     "output_type": "execute_result"
    }
   ],
   "source": [
    "img=cv2.imread(\"pokemon-card-wallpapers-11296161.jpg\",1)\n",
    "img"
   ]
  },
  {
   "cell_type": "code",
   "execution_count": null,
   "metadata": {},
   "outputs": [],
   "source": []
  }
 ],
 "metadata": {
  "kernelspec": {
   "display_name": "Python 2",
   "language": "python",
   "name": "python2"
  },
  "language_info": {
   "codemirror_mode": {
    "name": "ipython",
    "version": 2
   },
   "file_extension": ".py",
   "mimetype": "text/x-python",
   "name": "python",
   "nbconvert_exporter": "python",
   "pygments_lexer": "ipython2",
   "version": "2.7.15rc1"
  }
 },
 "nbformat": 4,
 "nbformat_minor": 2
}
